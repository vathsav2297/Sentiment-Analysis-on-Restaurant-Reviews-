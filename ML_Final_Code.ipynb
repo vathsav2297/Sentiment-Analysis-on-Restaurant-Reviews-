{
  "cells": [
    {
      "cell_type": "code",
      "execution_count": 26,
      "metadata": {
        "id": "zNptVZgqf-0a"
      },
      "outputs": [],
      "source": [
        "#pip install tensorflow"
      ]
    },
    {
      "cell_type": "code",
      "execution_count": 27,
      "metadata": {
        "id": "5vHS8UNCf-0c"
      },
      "outputs": [],
      "source": [
        "from numpy.random import seed\n",
        "seed(111)\n",
        "import tensorflow as tf\n",
        "tf.random.set_seed(111)"
      ]
    },
    {
      "cell_type": "code",
      "execution_count": 28,
      "metadata": {
        "id": "4e3Z80Z2f-0d"
      },
      "outputs": [],
      "source": [
        "from tensorflow.keras import metrics\n",
        "METRICS = [metrics.BinaryAccuracy(),\n",
        "        metrics.Precision(name='precision'), \n",
        "        metrics.Recall(name='recall')]"
      ]
    },
    {
      "cell_type": "markdown",
      "metadata": {
        "id": "I7354cuTf-0d"
      },
      "source": [
        "## Load dataset"
      ]
    },
    {
      "cell_type": "code",
      "execution_count": 29,
      "metadata": {
        "colab": {
          "base_uri": "https://localhost:8080/",
          "height": 206
        },
        "id": "iKAROgiXf-0d",
        "outputId": "d35f1e1d-7783-46ac-d81a-b26a6d4ad21d"
      },
      "outputs": [
        {
          "output_type": "execute_result",
          "data": {
            "text/plain": [
              "                                              Review  Rating\n",
              "0  Just had a meal here -started badly when my dr...       0\n",
              "1  There's no need for social distancing at Level...       0\n",
              "2  We had lunch here because it was an easy walk ...       0\n",
              "3  This restaurant doesnt really stand out for an...       0\n",
              "4  Lured by the street menu, we visited this plac...       0"
            ],
            "text/html": [
              "\n",
              "  <div id=\"df-a723fad7-ecd2-4f7f-b572-e74bf0e062fe\">\n",
              "    <div class=\"colab-df-container\">\n",
              "      <div>\n",
              "<style scoped>\n",
              "    .dataframe tbody tr th:only-of-type {\n",
              "        vertical-align: middle;\n",
              "    }\n",
              "\n",
              "    .dataframe tbody tr th {\n",
              "        vertical-align: top;\n",
              "    }\n",
              "\n",
              "    .dataframe thead th {\n",
              "        text-align: right;\n",
              "    }\n",
              "</style>\n",
              "<table border=\"1\" class=\"dataframe\">\n",
              "  <thead>\n",
              "    <tr style=\"text-align: right;\">\n",
              "      <th></th>\n",
              "      <th>Review</th>\n",
              "      <th>Rating</th>\n",
              "    </tr>\n",
              "  </thead>\n",
              "  <tbody>\n",
              "    <tr>\n",
              "      <th>0</th>\n",
              "      <td>Just had a meal here -started badly when my dr...</td>\n",
              "      <td>0</td>\n",
              "    </tr>\n",
              "    <tr>\n",
              "      <th>1</th>\n",
              "      <td>There's no need for social distancing at Level...</td>\n",
              "      <td>0</td>\n",
              "    </tr>\n",
              "    <tr>\n",
              "      <th>2</th>\n",
              "      <td>We had lunch here because it was an easy walk ...</td>\n",
              "      <td>0</td>\n",
              "    </tr>\n",
              "    <tr>\n",
              "      <th>3</th>\n",
              "      <td>This restaurant doesnt really stand out for an...</td>\n",
              "      <td>0</td>\n",
              "    </tr>\n",
              "    <tr>\n",
              "      <th>4</th>\n",
              "      <td>Lured by the street menu, we visited this plac...</td>\n",
              "      <td>0</td>\n",
              "    </tr>\n",
              "  </tbody>\n",
              "</table>\n",
              "</div>\n",
              "      <button class=\"colab-df-convert\" onclick=\"convertToInteractive('df-a723fad7-ecd2-4f7f-b572-e74bf0e062fe')\"\n",
              "              title=\"Convert this dataframe to an interactive table.\"\n",
              "              style=\"display:none;\">\n",
              "        \n",
              "  <svg xmlns=\"http://www.w3.org/2000/svg\" height=\"24px\"viewBox=\"0 0 24 24\"\n",
              "       width=\"24px\">\n",
              "    <path d=\"M0 0h24v24H0V0z\" fill=\"none\"/>\n",
              "    <path d=\"M18.56 5.44l.94 2.06.94-2.06 2.06-.94-2.06-.94-.94-2.06-.94 2.06-2.06.94zm-11 1L8.5 8.5l.94-2.06 2.06-.94-2.06-.94L8.5 2.5l-.94 2.06-2.06.94zm10 10l.94 2.06.94-2.06 2.06-.94-2.06-.94-.94-2.06-.94 2.06-2.06.94z\"/><path d=\"M17.41 7.96l-1.37-1.37c-.4-.4-.92-.59-1.43-.59-.52 0-1.04.2-1.43.59L10.3 9.45l-7.72 7.72c-.78.78-.78 2.05 0 2.83L4 21.41c.39.39.9.59 1.41.59.51 0 1.02-.2 1.41-.59l7.78-7.78 2.81-2.81c.8-.78.8-2.07 0-2.86zM5.41 20L4 18.59l7.72-7.72 1.47 1.35L5.41 20z\"/>\n",
              "  </svg>\n",
              "      </button>\n",
              "      \n",
              "  <style>\n",
              "    .colab-df-container {\n",
              "      display:flex;\n",
              "      flex-wrap:wrap;\n",
              "      gap: 12px;\n",
              "    }\n",
              "\n",
              "    .colab-df-convert {\n",
              "      background-color: #E8F0FE;\n",
              "      border: none;\n",
              "      border-radius: 50%;\n",
              "      cursor: pointer;\n",
              "      display: none;\n",
              "      fill: #1967D2;\n",
              "      height: 32px;\n",
              "      padding: 0 0 0 0;\n",
              "      width: 32px;\n",
              "    }\n",
              "\n",
              "    .colab-df-convert:hover {\n",
              "      background-color: #E2EBFA;\n",
              "      box-shadow: 0px 1px 2px rgba(60, 64, 67, 0.3), 0px 1px 3px 1px rgba(60, 64, 67, 0.15);\n",
              "      fill: #174EA6;\n",
              "    }\n",
              "\n",
              "    [theme=dark] .colab-df-convert {\n",
              "      background-color: #3B4455;\n",
              "      fill: #D2E3FC;\n",
              "    }\n",
              "\n",
              "    [theme=dark] .colab-df-convert:hover {\n",
              "      background-color: #434B5C;\n",
              "      box-shadow: 0px 1px 3px 1px rgba(0, 0, 0, 0.15);\n",
              "      filter: drop-shadow(0px 1px 2px rgba(0, 0, 0, 0.3));\n",
              "      fill: #FFFFFF;\n",
              "    }\n",
              "  </style>\n",
              "\n",
              "      <script>\n",
              "        const buttonEl =\n",
              "          document.querySelector('#df-a723fad7-ecd2-4f7f-b572-e74bf0e062fe button.colab-df-convert');\n",
              "        buttonEl.style.display =\n",
              "          google.colab.kernel.accessAllowed ? 'block' : 'none';\n",
              "\n",
              "        async function convertToInteractive(key) {\n",
              "          const element = document.querySelector('#df-a723fad7-ecd2-4f7f-b572-e74bf0e062fe');\n",
              "          const dataTable =\n",
              "            await google.colab.kernel.invokeFunction('convertToInteractive',\n",
              "                                                     [key], {});\n",
              "          if (!dataTable) return;\n",
              "\n",
              "          const docLinkHtml = 'Like what you see? Visit the ' +\n",
              "            '<a target=\"_blank\" href=https://colab.research.google.com/notebooks/data_table.ipynb>data table notebook</a>'\n",
              "            + ' to learn more about interactive tables.';\n",
              "          element.innerHTML = '';\n",
              "          dataTable['output_type'] = 'display_data';\n",
              "          await google.colab.output.renderOutput(dataTable, element);\n",
              "          const docLink = document.createElement('div');\n",
              "          docLink.innerHTML = docLinkHtml;\n",
              "          element.appendChild(docLink);\n",
              "        }\n",
              "      </script>\n",
              "    </div>\n",
              "  </div>\n",
              "  "
            ]
          },
          "metadata": {},
          "execution_count": 29
        }
      ],
      "source": [
        "import pandas as pd\n",
        "df = pd.read_csv(\"Team7_Restaurant_Reviews_Dataset.csv\")\n",
        "df.head()"
      ]
    },
    {
      "cell_type": "markdown",
      "metadata": {
        "id": "fG-vdcoKf-0e"
      },
      "source": [
        "## Dataset includes 500 positive and 407 negative reviews."
      ]
    },
    {
      "cell_type": "code",
      "execution_count": 30,
      "metadata": {
        "colab": {
          "base_uri": "https://localhost:8080/"
        },
        "id": "7J9zWdawf-0e",
        "outputId": "9808ae51-45b0-486e-cd8d-5510ec6f5e92"
      },
      "outputs": [
        {
          "output_type": "execute_result",
          "data": {
            "text/plain": [
              "1    500\n",
              "0    407\n",
              "Name: Rating, dtype: int64"
            ]
          },
          "metadata": {},
          "execution_count": 30
        }
      ],
      "source": [
        "df[\"Rating\"].value_counts()"
      ]
    },
    {
      "cell_type": "markdown",
      "metadata": {
        "id": "X9_Hy6ctf-0f"
      },
      "source": [
        "## Preprocessing\n",
        "\n",
        "* Remove everything except letters\n",
        "* Convert to lowercase\n",
        "* Stemming"
      ]
    },
    {
      "cell_type": "code",
      "execution_count": 31,
      "metadata": {
        "scrolled": true,
        "colab": {
          "base_uri": "https://localhost:8080/"
        },
        "id": "Fsi65DeXf-0f",
        "outputId": "707c78fc-689e-475b-a697-9a8e8c92c17a"
      },
      "outputs": [
        {
          "output_type": "stream",
          "name": "stdout",
          "text": [
            "[nltk_data] Downloading package stopwords to /root/nltk_data...\n",
            "[nltk_data]   Package stopwords is already up-to-date!\n"
          ]
        }
      ],
      "source": [
        "import nltk\n",
        "nltk.download('stopwords')\n",
        "\n",
        "import re\n",
        "import numpy as np\n",
        "\n",
        "from nltk.corpus import stopwords\n",
        "from nltk.stem import PorterStemmer\n",
        "\n",
        "stemmer = PorterStemmer()\n",
        "stopwords_english = stopwords.words('english')\n",
        "preprocessed_data = []\n",
        "\n",
        "for x in range(0, df.shape[0]):\n",
        "    #Step 1: Remove everything except letters \n",
        "    reviews = re.sub('[^a-zA-Z]', ' ', df[\"Review\"][x])\n",
        "    \n",
        "    #Step 2: Convert everything to lowercase\n",
        "    reviews = reviews.lower()\n",
        "    \n",
        "    #Step 3: Stemming words with NLTK\n",
        "    reviews = reviews.split() \n",
        "    reviews = [stemmer.stem(i) for i in reviews if i not in set(stopwords_english)] \n",
        "    reviews = ' '.join(reviews)\n",
        "    preprocessed_data.append(reviews)\n"
      ]
    },
    {
      "cell_type": "markdown",
      "metadata": {
        "id": "QR3yEUYwf-0f"
      },
      "source": [
        "## Below are the preprocessed tweets"
      ]
    },
    {
      "cell_type": "code",
      "execution_count": 32,
      "metadata": {
        "colab": {
          "base_uri": "https://localhost:8080/"
        },
        "id": "hPLo6uL7f-0g",
        "outputId": "326f76dd-492d-4eb2-b1c3-e5dd70bc96fa"
      },
      "outputs": [
        {
          "output_type": "execute_result",
          "data": {
            "text/plain": [
              "['meal start badli driver came collect nice touch criticis footwear car set tone well seafood chowder came tini bowl smatter fish chunk probabl could pass seafood label accompani soup also serv half dozen oyster order came lemon dish balsam vinegar oyster could scallop tast virtual star attract scallop swim helplessli pool sauc ostens hide bland tast summis along chip salad offer ask want dessert whilst collect order bungl drink left order anoth tabl two collect girl possibl get order wrong left horribl underwhelm waiter told prior eat restaur among best auckland case get plane go back home wasnt ask enjoy pay offer come fall deaf ear come auckland u better sort roadsid cafe masquerad restaur',\n",
              " 'need social distanc level serv quickli waiter pleasant meal came quickli mani peopl dine room take away order steak main garlic bread recommend us ok drink expens',\n",
              " 'lunch easi walk lodg menu look better two adjac place crowd aka theori must better sinc peopl well look deceiv food seafood chowder garlic bread squash soup chicken okay special also servic slooooowwwww',\n",
              " 'restaur doesnt realli stand anyth except fact order full meal menu pack takeaway pick pretti conveni steak meal takeaway although amaz conveni made',\n",
              " 'lure street menu visit place found differ menu everi item higher price ask told post price street lower honor wonder price would charg']"
            ]
          },
          "metadata": {},
          "execution_count": 32
        }
      ],
      "source": [
        "preprocessed_data[:5]"
      ]
    },
    {
      "cell_type": "markdown",
      "metadata": {
        "id": "_8PNspGAf-0g"
      },
      "source": [
        "## Split train and test set: %80 Train, %20 Test"
      ]
    },
    {
      "cell_type": "code",
      "execution_count": 33,
      "metadata": {
        "id": "G9RZGp-Mf-0g"
      },
      "outputs": [],
      "source": [
        "# labels\n",
        "y = df.iloc[:,1].values\n",
        "# preprocessed data\n",
        "X = preprocessed_data \n",
        "# Splitting the dataset into the Training set and Test set\n",
        "from sklearn.model_selection import train_test_split\n",
        "X_train, X_test, y_train, y_test = train_test_split(X, y, test_size = 0.20, random_state = 0, stratify=y)"
      ]
    },
    {
      "cell_type": "code",
      "execution_count": 34,
      "metadata": {
        "colab": {
          "base_uri": "https://localhost:8080/"
        },
        "id": "-OvRXWKdf-0g",
        "outputId": "3447a546-168a-4a9d-cbeb-fc9f621f526b"
      },
      "outputs": [
        {
          "output_type": "stream",
          "name": "stdout",
          "text": [
            "X_train len:  725\n",
            "y_train len:  725\n",
            "X_test len:  182\n",
            "y_test len:  182\n"
          ]
        }
      ],
      "source": [
        "print(\"X_train len: \", len(X_train))\n",
        "print(\"y_train len: \", len(y_train))\n",
        "print(\"X_test len: \", len(X_test))\n",
        "print(\"y_test len: \", len(y_test))"
      ]
    },
    {
      "cell_type": "code",
      "execution_count": 35,
      "metadata": {
        "colab": {
          "base_uri": "https://localhost:8080/"
        },
        "id": "M-PjwoR0f-0g",
        "outputId": "1611305c-f988-49de-825d-1e706cf499ce"
      },
      "outputs": [
        {
          "output_type": "stream",
          "name": "stdout",
          "text": [
            "Training sequences:\n",
            " [[  0   0   0 ...  40  31  82]\n",
            " [  0   0   0 ...  24  11 142]\n",
            " [  0   0   0 ...  20  50 211]\n",
            " ...\n",
            " [  0   0   0 ... 244 280 272]\n",
            " [  0   0   0 ...  80  19 102]\n",
            " [  0   0   0 ...  30  99 271]]\n",
            "Testing sequences:\n",
            " [[  0   0   0 ...  24  18   7]\n",
            " [  0   0   0 ... 148  20 120]\n",
            " [  0   0   0 ... 150  28  57]\n",
            " ...\n",
            " [  0   0   0 ...  80  19 102]\n",
            " [  0   0   0 ... 379  11   7]\n",
            " [  0   0   0 ... 150  28  57]]\n"
          ]
        }
      ],
      "source": [
        "from keras.preprocessing.text import Tokenizer\n",
        "from keras.preprocessing.sequence import pad_sequences\n",
        "\n",
        "# maximum words in the vocabulary\n",
        "max_words = 2500 \n",
        "# maximum sequence length\n",
        "max_len = 200 \n",
        "\n",
        "tokenizer = Tokenizer(num_words=max_words)\n",
        "tokenizer.fit_on_texts(X_train)\n",
        "# create sequences of tokens representing each sentence\n",
        "training_sequences = tokenizer.texts_to_sequences(X_train) \n",
        "training_padded = pad_sequences(training_sequences, maxlen=max_len, truncating=\"post\")\n",
        "print(\"Training sequences:\\n\",training_padded)\n",
        "# create sequences of tokens representing each sentence\n",
        "testing_sequences = tokenizer.texts_to_sequences(X_test) \n",
        "testing_padded = pad_sequences(testing_sequences, maxlen=max_len, truncating=\"post\")\n",
        "print(\"Testing sequences:\\n\",testing_padded)\n",
        "\n",
        "X_train = training_padded\n",
        "X_test = testing_padded\n"
      ]
    },
    {
      "cell_type": "markdown",
      "source": [
        "##Confusion matrix visualization"
      ],
      "metadata": {
        "id": "de617VOUglga"
      }
    },
    {
      "cell_type": "code",
      "source": [
        "import seaborn as sns\n",
        "from sklearn.metrics import confusion_matrix\n",
        "\n",
        "\n",
        "def print_confusion_matrix(input):\n",
        "    data = pd.DataFrame(input, columns=np.unique([0,1]), index = np.unique([0,1]))\n",
        "    data.index.name = 'Actual'\n",
        "    data.columns.name = 'Predicted'\n",
        "    grp_names = [\"True Neg\",\"False Pos\", \"False Neg\", \"True Pos\"]\n",
        "    grp_counts = [\"{0:0.0f}\".format(value) for value in input.flatten()]\n",
        "    grp_percentages = [\"{0:.2%}\".format(value) for value in input.flatten()/np.sum(input)]\n",
        "    labels = [f\"{v1}\\n{v2}\\n{v3}\" for v1, v2, v3 in zip(grp_names,grp_counts,grp_percentages)]\n",
        "    labels = np.asarray(labels).reshape(2,2)\n",
        "    sns.heatmap(data, annot=labels, fmt=\"\", cmap='Blues')\n",
        "\n",
        "# reference: https://medium.com/@dtuk81/confusion-matrix-visualization-fc31e3f30fea"
      ],
      "metadata": {
        "id": "wxAEVivdgq-7"
      },
      "execution_count": 36,
      "outputs": []
    },
    {
      "cell_type": "code",
      "source": [
        "from keras.models import Sequential\n",
        "from keras import layers\n",
        "from keras.callbacks import ModelCheckpoint\n",
        "import tensorflow as tf"
      ],
      "metadata": {
        "id": "DMa35n_r-mDh"
      },
      "execution_count": 37,
      "outputs": []
    },
    {
      "cell_type": "markdown",
      "source": [
        "## Train with LSTM\n"
      ],
      "metadata": {
        "id": "uKl8EVIs-bXI"
      }
    },
    {
      "cell_type": "code",
      "source": [
        "### ReLU and Sigmoid Activation Functions are being used\n",
        "### Optimizer - RMS Prop\n",
        "### Loss Criterion - Binary Cross Entropy Loss\n",
        "\n",
        "### Structure - Embedding Layer -> LSTM Layers -> Dense Layers \n",
        "def lstm():\n",
        "    model = Sequential()\n",
        "    model.add(layers.Embedding(max_words, 45, input_length=max_len))\n",
        "\n",
        "    model.add(layers.LSTM(256, return_sequences=True))\n",
        "    model.add(layers.LSTM(216, return_sequences=True))\n",
        "    model.add(layers.LSTM(152))\n",
        "  \n",
        "    model.add(layers.Dense(488, activation=\"relu\"))\n",
        "\n",
        "    model.add(layers.Dense(1, activation='sigmoid'))\n",
        "\n",
        "    model.compile(optimizer=\"rmsprop\",loss='binary_crossentropy', metrics=METRICS)\n",
        "    model.summary()\n",
        "\n",
        "    return model"
      ],
      "metadata": {
        "id": "f8HqbDtb-hdO"
      },
      "execution_count": 38,
      "outputs": []
    },
    {
      "cell_type": "code",
      "source": [
        "lstm_model = lstm()\n",
        "lstm_callback = tf.keras.callbacks.EarlyStopping(monitor='val_binary_accuracy', patience=3)\n",
        "lstm_checkpoint = ModelCheckpoint(\"best_model1.hdf5\", monitor='val_binary_accuracy', verbose=1,save_best_only=True, mode='auto',save_weights_only=False)\n",
        "lstm_history = lstm_model.fit(X_train, y_train, epochs=100, validation_split=0.2, callbacks=[lstm_checkpoint, lstm_callback], batch_size=64)"
      ],
      "metadata": {
        "colab": {
          "base_uri": "https://localhost:8080/"
        },
        "id": "_WQMtdVB-pg2",
        "outputId": "f05c2d2d-d5f6-4c03-94b1-7bed1bfb3a90"
      },
      "execution_count": 39,
      "outputs": [
        {
          "output_type": "stream",
          "name": "stdout",
          "text": [
            "Model: \"sequential_4\"\n",
            "_________________________________________________________________\n",
            " Layer (type)                Output Shape              Param #   \n",
            "=================================================================\n",
            " embedding_4 (Embedding)     (None, 200, 45)           112500    \n",
            "                                                                 \n",
            " lstm_9 (LSTM)               (None, 200, 256)          309248    \n",
            "                                                                 \n",
            " lstm_10 (LSTM)              (None, 200, 216)          408672    \n",
            "                                                                 \n",
            " lstm_11 (LSTM)              (None, 152)               224352    \n",
            "                                                                 \n",
            " dense_7 (Dense)             (None, 488)               74664     \n",
            "                                                                 \n",
            " dense_8 (Dense)             (None, 1)                 489       \n",
            "                                                                 \n",
            "=================================================================\n",
            "Total params: 1,129,925\n",
            "Trainable params: 1,129,925\n",
            "Non-trainable params: 0\n",
            "_________________________________________________________________\n",
            "Epoch 1/100\n",
            "10/10 [==============================] - ETA: 0s - loss: 0.7454 - binary_accuracy: 0.6741 - precision: 0.7029 - recall: 0.6962\n",
            "Epoch 1: val_binary_accuracy improved from -inf to 0.64138, saving model to best_model1.hdf5\n",
            "10/10 [==============================] - 40s 3s/step - loss: 0.7454 - binary_accuracy: 0.6741 - precision: 0.7029 - recall: 0.6962 - val_loss: 1.2625 - val_binary_accuracy: 0.6414 - val_precision: 0.6176 - val_recall: 1.0000\n",
            "Epoch 2/100\n",
            "10/10 [==============================] - ETA: 0s - loss: 0.3903 - binary_accuracy: 0.8638 - precision: 0.8031 - recall: 0.9937\n",
            "Epoch 2: val_binary_accuracy improved from 0.64138 to 0.90345, saving model to best_model1.hdf5\n",
            "10/10 [==============================] - 32s 3s/step - loss: 0.3903 - binary_accuracy: 0.8638 - precision: 0.8031 - recall: 0.9937 - val_loss: 0.2874 - val_binary_accuracy: 0.9034 - val_precision: 0.8571 - val_recall: 1.0000\n",
            "Epoch 3/100\n",
            "10/10 [==============================] - ETA: 0s - loss: 0.2274 - binary_accuracy: 0.9172 - precision: 0.8941 - recall: 0.9620\n",
            "Epoch 3: val_binary_accuracy improved from 0.90345 to 0.91724, saving model to best_model1.hdf5\n",
            "10/10 [==============================] - 31s 3s/step - loss: 0.2274 - binary_accuracy: 0.9172 - precision: 0.8941 - recall: 0.9620 - val_loss: 0.1945 - val_binary_accuracy: 0.9172 - val_precision: 0.8830 - val_recall: 0.9881\n",
            "Epoch 4/100\n",
            "10/10 [==============================] - ETA: 0s - loss: 0.1240 - binary_accuracy: 0.9483 - precision: 0.9360 - recall: 0.9715\n",
            "Epoch 4: val_binary_accuracy improved from 0.91724 to 0.93103, saving model to best_model1.hdf5\n",
            "10/10 [==============================] - 32s 3s/step - loss: 0.1240 - binary_accuracy: 0.9483 - precision: 0.9360 - recall: 0.9715 - val_loss: 0.1529 - val_binary_accuracy: 0.9310 - val_precision: 0.9111 - val_recall: 0.9762\n",
            "Epoch 5/100\n",
            "10/10 [==============================] - ETA: 0s - loss: 0.0717 - binary_accuracy: 0.9741 - precision: 0.9688 - recall: 0.9842\n",
            "Epoch 5: val_binary_accuracy did not improve from 0.93103\n",
            "10/10 [==============================] - 32s 3s/step - loss: 0.0717 - binary_accuracy: 0.9741 - precision: 0.9688 - recall: 0.9842 - val_loss: 0.1545 - val_binary_accuracy: 0.9310 - val_precision: 0.9111 - val_recall: 0.9762\n",
            "Epoch 6/100\n",
            "10/10 [==============================] - ETA: 0s - loss: 0.0360 - binary_accuracy: 0.9862 - precision: 0.9783 - recall: 0.9968\n",
            "Epoch 6: val_binary_accuracy did not improve from 0.93103\n",
            "10/10 [==============================] - 32s 3s/step - loss: 0.0360 - binary_accuracy: 0.9862 - precision: 0.9783 - recall: 0.9968 - val_loss: 0.2044 - val_binary_accuracy: 0.9310 - val_precision: 0.9744 - val_recall: 0.9048\n",
            "Epoch 7/100\n",
            "10/10 [==============================] - ETA: 0s - loss: 0.0170 - binary_accuracy: 0.9948 - precision: 0.9937 - recall: 0.9968\n",
            "Epoch 7: val_binary_accuracy improved from 0.93103 to 0.93793, saving model to best_model1.hdf5\n",
            "10/10 [==============================] - 32s 3s/step - loss: 0.0170 - binary_accuracy: 0.9948 - precision: 0.9937 - recall: 0.9968 - val_loss: 0.2212 - val_binary_accuracy: 0.9379 - val_precision: 0.9310 - val_recall: 0.9643\n",
            "Epoch 8/100\n",
            "10/10 [==============================] - ETA: 0s - loss: 0.0168 - binary_accuracy: 0.9948 - precision: 0.9937 - recall: 0.9968\n",
            "Epoch 8: val_binary_accuracy did not improve from 0.93793\n",
            "10/10 [==============================] - 32s 3s/step - loss: 0.0168 - binary_accuracy: 0.9948 - precision: 0.9937 - recall: 0.9968 - val_loss: 0.2120 - val_binary_accuracy: 0.9172 - val_precision: 0.9091 - val_recall: 0.9524\n",
            "Epoch 9/100\n",
            "10/10 [==============================] - ETA: 0s - loss: 0.0072 - binary_accuracy: 0.9983 - precision: 1.0000 - recall: 0.9968\n",
            "Epoch 9: val_binary_accuracy did not improve from 0.93793\n",
            "10/10 [==============================] - 32s 3s/step - loss: 0.0072 - binary_accuracy: 0.9983 - precision: 1.0000 - recall: 0.9968 - val_loss: 0.2636 - val_binary_accuracy: 0.9379 - val_precision: 0.9518 - val_recall: 0.9405\n",
            "Epoch 10/100\n",
            "10/10 [==============================] - ETA: 0s - loss: 0.0016 - binary_accuracy: 1.0000 - precision: 1.0000 - recall: 1.0000\n",
            "Epoch 10: val_binary_accuracy did not improve from 0.93793\n",
            "10/10 [==============================] - 31s 3s/step - loss: 0.0016 - binary_accuracy: 1.0000 - precision: 1.0000 - recall: 1.0000 - val_loss: 0.3097 - val_binary_accuracy: 0.9310 - val_precision: 0.9405 - val_recall: 0.9405\n"
          ]
        }
      ]
    },
    {
      "cell_type": "markdown",
      "source": [
        "## Test trained LSTM model on test data"
      ],
      "metadata": {
        "id": "4kF3EN9u-uLy"
      }
    },
    {
      "cell_type": "code",
      "source": [
        "# Evaluate the model on the test data\n",
        "print(\"Evaluate on test data\")\n",
        "lstm_result = lstm_model.evaluate(X_test, y_test, batch_size=64)\n",
        "print(\"test loss, test acc, test precion, test recall:\", lstm_result)"
      ],
      "metadata": {
        "colab": {
          "base_uri": "https://localhost:8080/"
        },
        "id": "CVl9-2At-0hj",
        "outputId": "d36c1bc4-d661-450a-a9ec-fa11b836278f"
      },
      "execution_count": 40,
      "outputs": [
        {
          "output_type": "stream",
          "name": "stdout",
          "text": [
            "Evaluate on test data\n",
            "3/3 [==============================] - 3s 829ms/step - loss: 0.4045 - binary_accuracy: 0.9231 - precision: 0.9216 - recall: 0.9400\n",
            "test loss, test acc, test precion, test recall: [0.40448421239852905, 0.9230769276618958, 0.9215686321258545, 0.9399999976158142]\n"
          ]
        }
      ]
    },
    {
      "cell_type": "code",
      "source": [
        "# Generate predictions/probabilities (the output of the last layer)\n",
        "predictions = lstm_model.predict(X_test)\n",
        "\n",
        "# to create confusion matrix transform probabilities to labels (if predicted more than 0.5 positivie-1 else negative-0 ))\n",
        "y_pred = []\n",
        "for i, predicted in enumerate(predictions):\n",
        "    if predicted[0] >= 0.5:\n",
        "        y_pred.append(1)\n",
        "        #assign i to class 1\n",
        "    else:\n",
        "         y_pred.append(0)\n",
        "        #assign i to class 0\n",
        "\n",
        "# list to numpy array\n",
        "y_pred = np.array(y_pred)\n",
        "\n",
        "c = confusion_matrix(y_test, y_pred) \n",
        "print_confusion_matrix(c) "
      ],
      "metadata": {
        "colab": {
          "base_uri": "https://localhost:8080/",
          "height": 279
        },
        "id": "xIFjSFu3-4Ov",
        "outputId": "73745553-79e8-4d8a-f4ec-1344827da4df"
      },
      "execution_count": 41,
      "outputs": [
        {
          "output_type": "display_data",
          "data": {
            "text/plain": [
              "<Figure size 432x288 with 2 Axes>"
            ],
            "image/png": "[encoded data removed]"
          },
          "metadata": {
            "needs_background": "light"
          }
        }
      ]
    },
    {
      "cell_type": "markdown",
      "source": [
        "##Train with CNN"
      ],
      "metadata": {
        "id": "frkohJyJhNi1"
      }
    },
    {
      "cell_type": "code",
      "source": [
        "### A CNN model is being built\n",
        "### Using a 1D convolution\n",
        "### ReLu activation function is being used\n",
        "### Sigmoid Activation is being used\n",
        "### Loss criterion - Binary Cross Entropy Loss\n",
        "\n",
        "### Embedding Layer -> Conv1D Layers -> Flatten -> Dense Layer\n",
        "\n",
        "### using model checkpoint to save and re-use the model later at higher validation accuracies\n",
        "### Stop training when a monitored metric has stopped improving using Early Stopping\n",
        "def cnn():\n",
        "    model = Sequential()\n",
        "    model.add(layers.Embedding(max_words, 35, input_length=max_len))\n",
        "\n",
        "    model.add(layers.Conv1D(38, 2, activation='relu'))\n",
        "    model.add(layers.Conv1D(26, 8, activation='relu'))\n",
        "    model.add(layers.Flatten())\n",
        "    model.add(layers.Dense(1,activation='sigmoid'))\n",
        "\n",
        "    model.compile(optimizer='adam',loss='binary_crossentropy',metrics=METRICS)\n",
        "    model.summary()\n",
        "\n",
        "    return model"
      ],
      "metadata": {
        "id": "nY43nz2xhRCK"
      },
      "execution_count": 42,
      "outputs": []
    },
    {
      "cell_type": "code",
      "source": [
        "cnn_model = cnn()\n",
        "cnn_callback = tf.keras.callbacks.EarlyStopping(monitor='val_binary_accuracy', patience=3)\n",
        "cnn_checkpoint = ModelCheckpoint(\"best_model3.hdf5\", monitor='val_binary_accuracy', verbose=1,save_best_only=True, mode='auto', save_weights_only=False)\n",
        "cnn_history = cnn_model.fit(X_train, y_train, epochs=70, validation_split=0.2, callbacks=[cnn_checkpoint, cnn_callback])"
      ],
      "metadata": {
        "colab": {
          "base_uri": "https://localhost:8080/"
        },
        "id": "tD5cFlyShTkh",
        "outputId": "5a0f2e7c-7bf9-4dfb-9715-1d1db3d4ed6c"
      },
      "execution_count": 43,
      "outputs": [
        {
          "output_type": "stream",
          "name": "stdout",
          "text": [
            "Model: \"sequential_5\"\n",
            "_________________________________________________________________\n",
            " Layer (type)                Output Shape              Param #   \n",
            "=================================================================\n",
            " embedding_5 (Embedding)     (None, 200, 35)           87500     \n",
            "                                                                 \n",
            " conv1d_2 (Conv1D)           (None, 199, 38)           2698      \n",
            "                                                                 \n",
            " conv1d_3 (Conv1D)           (None, 192, 26)           7930      \n",
            "                                                                 \n",
            " flatten_1 (Flatten)         (None, 4992)              0         \n",
            "                                                                 \n",
            " dense_9 (Dense)             (None, 1)                 4993      \n",
            "                                                                 \n",
            "=================================================================\n",
            "Total params: 103,121\n",
            "Trainable params: 103,121\n",
            "Non-trainable params: 0\n",
            "_________________________________________________________________\n",
            "Epoch 1/70\n",
            "19/19 [==============================] - ETA: 0s - loss: 0.6363 - binary_accuracy: 0.6942 - precision: 0.6455 - recall: 0.9760\n",
            "Epoch 1: val_binary_accuracy improved from -inf to 0.69655, saving model to best_model3.hdf5\n",
            "19/19 [==============================] - 2s 58ms/step - loss: 0.6363 - binary_accuracy: 0.6942 - precision: 0.6455 - recall: 0.9760 - val_loss: 0.5458 - val_binary_accuracy: 0.6966 - val_precision: 0.6562 - val_recall: 1.0000\n",
            "Epoch 2/70\n",
            "17/19 [=========================>....] - ETA: 0s - loss: 0.4667 - binary_accuracy: 0.7868 - precision: 0.7289 - recall: 0.9767\n",
            "Epoch 2: val_binary_accuracy improved from 0.69655 to 0.90345, saving model to best_model3.hdf5\n",
            "19/19 [==============================] - 1s 34ms/step - loss: 0.4556 - binary_accuracy: 0.7983 - precision: 0.7375 - recall: 0.9778 - val_loss: 0.3024 - val_binary_accuracy: 0.9034 - val_precision: 0.8571 - val_recall: 1.0000\n",
            "Epoch 3/70\n",
            "17/19 [=========================>....] - ETA: 0s - loss: 0.2308 - binary_accuracy: 0.8934 - precision: 0.8367 - recall: 0.9966\n",
            "Epoch 3: val_binary_accuracy did not improve from 0.90345\n",
            "19/19 [==============================] - 1s 32ms/step - loss: 0.2288 - binary_accuracy: 0.8948 - precision: 0.8418 - recall: 0.9937 - val_loss: 0.1823 - val_binary_accuracy: 0.8621 - val_precision: 0.8478 - val_recall: 0.9286\n",
            "Epoch 4/70\n",
            "17/19 [=========================>....] - ETA: 0s - loss: 0.1294 - binary_accuracy: 0.9706 - precision: 0.9484 - recall: 1.0000\n",
            "Epoch 4: val_binary_accuracy did not improve from 0.90345\n",
            "19/19 [==============================] - 1s 31ms/step - loss: 0.1264 - binary_accuracy: 0.9724 - precision: 0.9518 - recall: 1.0000 - val_loss: 0.1751 - val_binary_accuracy: 0.8759 - val_precision: 0.8511 - val_recall: 0.9524\n",
            "Epoch 5/70\n",
            "17/19 [=========================>....] - ETA: 0s - loss: 0.0790 - binary_accuracy: 0.9871 - precision: 0.9767 - recall: 1.0000\n",
            "Epoch 5: val_binary_accuracy did not improve from 0.90345\n",
            "19/19 [==============================] - 1s 31ms/step - loss: 0.0773 - binary_accuracy: 0.9862 - precision: 0.9753 - recall: 1.0000 - val_loss: 0.1834 - val_binary_accuracy: 0.8621 - val_precision: 0.8478 - val_recall: 0.9286\n"
          ]
        }
      ]
    },
    {
      "cell_type": "markdown",
      "source": [
        "##Test trained CNN model on test data"
      ],
      "metadata": {
        "id": "aK_nsj6WhWEk"
      }
    },
    {
      "cell_type": "code",
      "source": [
        "# Evaluate the model on the test data using `evaluate`\n",
        "print(\"Evaluate on test data\")\n",
        "results3 = cnn_model.evaluate(X_test, y_test, batch_size=64)\n",
        "print(\"test loss, test acc, test precion, test recall:\", results3)"
      ],
      "metadata": {
        "colab": {
          "base_uri": "https://localhost:8080/"
        },
        "id": "5zIryIAHhY_i",
        "outputId": "b1843139-adf1-4a12-e3be-c9d102cf6308"
      },
      "execution_count": 44,
      "outputs": [
        {
          "output_type": "stream",
          "name": "stdout",
          "text": [
            "Evaluate on test data\n",
            "3/3 [==============================] - 0s 14ms/step - loss: 0.1780 - binary_accuracy: 0.8901 - precision: 0.8571 - recall: 0.9600\n",
            "test loss, test acc, test precion, test recall: [0.17800481617450714, 0.8901098966598511, 0.8571428656578064, 0.9599999785423279]\n"
          ]
        }
      ]
    },
    {
      "cell_type": "code",
      "source": [
        "predictions = cnn_model.predict(X_test)\n",
        "\n",
        "y_pred = []\n",
        "for i, predicted in enumerate(predictions):\n",
        "    if predicted[0] >= 0.5:\n",
        "        y_pred.append(1)\n",
        "        #assign i to class 1\n",
        "    else:\n",
        "         y_pred.append(0)\n",
        "        #assign i to class 0\n",
        "\n",
        "y_pred = np.array(y_pred)\n",
        "\n",
        "c = confusion_matrix(y_test, y_pred)\n",
        "print_confusion_matrix(c)"
      ],
      "metadata": {
        "colab": {
          "base_uri": "https://localhost:8080/",
          "height": 279
        },
        "id": "u96m_jEdhbNO",
        "outputId": "5907d275-8c7e-44c1-fdcf-5a74ba3d11dd"
      },
      "execution_count": 45,
      "outputs": [
        {
          "output_type": "display_data",
          "data": {
            "text/plain": [
              "<Figure size 432x288 with 2 Axes>"
            ],
            "image/png": "[encoded data removed]"
          },
          "metadata": {
            "needs_background": "light"
          }
        }
      ]
    }
  ],
  "metadata": {
    "interpreter": {
      "hash": "79aef8a0412c070c4a9ac8ca62c344059f8c43fdc1375a63b1cceaefa130f451"
    },
    "kernelspec": {
      "display_name": "Python 3 (ipykernel)",
      "language": "python",
      "name": "python3"
    },
    "language_info": {
      "codemirror_mode": {
        "name": "ipython",
        "version": 3
      },
      "file_extension": ".py",
      "mimetype": "text/x-python",
      "name": "python",
      "nbconvert_exporter": "python",
      "pygments_lexer": "ipython3",
      "version": "3.10.2"
    },
    "colab": {
      "name": "DataPreprocessing.ipynb",
      "provenance": [],
      "collapsed_sections": []
    }
  },
  "nbformat": 4,
  "nbformat_minor": 0
}